{
  "nbformat": 4,
  "nbformat_minor": 0,
  "metadata": {
    "colab": {
      "provenance": [],
      "authorship_tag": "ABX9TyPBHfa8FrLH3GAxeF8MvIb+",
      "include_colab_link": true
    },
    "kernelspec": {
      "name": "python3",
      "display_name": "Python 3"
    },
    "language_info": {
      "name": "python"
    }
  },
  "cells": [
    {
      "cell_type": "markdown",
      "metadata": {
        "id": "view-in-github",
        "colab_type": "text"
      },
      "source": [
        "<a href=\"https://colab.research.google.com/github/CarlosGordon/OptimizationII/blob/main/Dijkstra.ipynb\" target=\"_parent\"><img src=\"https://colab.research.google.com/assets/colab-badge.svg\" alt=\"Open In Colab\"/></a>"
      ]
    },
    {
      "cell_type": "code",
      "execution_count": null,
      "metadata": {
        "colab": {
          "base_uri": "https://localhost:8080/"
        },
        "id": "nhKR4kmjUYal",
        "outputId": "69739ce2-6301-4fd9-f914-00be4d39936b"
      },
      "outputs": [
        {
          "output_type": "stream",
          "name": "stdout",
          "text": [
            "Shortest distances from A: {'A': 0, 'B': 1, 'C': 3, 'D': 4, 'E': 7}\n",
            "Shortest path tree: {'B': 'A', 'C': 'B', 'D': 'C', 'E': 'D'}\n"
          ]
        }
      ],
      "source": [
        "def dijkstra(graph, start):\n",
        "    # Initialize distances and shortest path tree\n",
        "    distances = {node: float('infinity') for node in graph}\n",
        "    distances[start] = 0\n",
        "    shortest_path_tree = {}\n",
        "    # List of all nodes in the graph\n",
        "    unvisited = list(graph.keys())\n",
        "\n",
        "    while unvisited:\n",
        "        # Find the node with the smallest distance\n",
        "        current_node = None\n",
        "        for node in unvisited:\n",
        "            if current_node is None or distances[node] < distances[current_node]:\n",
        "                current_node = node\n",
        "\n",
        "        # If the smallest distance is infinity, we're done\n",
        "        if distances[current_node] == float('infinity'):\n",
        "            break\n",
        "\n",
        "        # Remove the current node from unvisited\n",
        "        unvisited.remove(current_node)\n",
        "\n",
        "        # Update the distances to the neighbors\n",
        "        for neighbor, weight in graph[current_node].items():\n",
        "            distance = distances[current_node] + weight\n",
        "            if distance < distances[neighbor]:\n",
        "                distances[neighbor] = distance\n",
        "                shortest_path_tree[neighbor] = current_node\n",
        "\n",
        "    return distances, shortest_path_tree\n",
        "\n",
        "# Define the graph\n",
        "graph = {\n",
        "    'A': {'B': 1, 'C': 4},\n",
        "    'B': {'C': 2, 'D': 5},\n",
        "    'C': {'D': 1},\n",
        "    'D': {'E': 3},\n",
        "    'E': {}\n",
        "}\n",
        "\n",
        "# Run Dijkstra's algorithm\n",
        "distances, shortest_path_tree = dijkstra(graph, 'A')\n",
        "\n",
        "print(\"Shortest distances from A:\", distances)\n",
        "print(\"Shortest path tree:\", shortest_path_tree)\n"
      ]
    }
  ]
}